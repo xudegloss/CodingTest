{
 "cells": [
  {
   "cell_type": "markdown",
   "id": "ac225097",
   "metadata": {},
   "source": [
    "# <헷갈리는 문법 여기서 실행>"
   ]
  },
  {
   "cell_type": "code",
   "execution_count": 8,
   "id": "aabe4ef0",
   "metadata": {},
   "outputs": [
    {
     "data": {
      "text/plain": [
       "[1, 2, 3, 4, 5]"
      ]
     },
     "execution_count": 8,
     "metadata": {},
     "output_type": "execute_result"
    }
   ],
   "source": [
    "list([int(i) for i in str(12345)])"
   ]
  },
  {
   "cell_type": "code",
   "execution_count": 9,
   "id": "02bdde1f",
   "metadata": {},
   "outputs": [
    {
     "data": {
      "text/plain": [
       "[5, 4, 3, 2, 1]"
      ]
     },
     "execution_count": 9,
     "metadata": {},
     "output_type": "execute_result"
    }
   ],
   "source": [
    "list([int(i) for i in str(12345)])[::-1]"
   ]
  },
  {
   "cell_type": "code",
   "execution_count": 46,
   "id": "33f4f734",
   "metadata": {},
   "outputs": [],
   "source": [
    "## 틀린 풀이 (몇 개 비정상 동작) ##\n",
    "def solution(n):\n",
    "    sqrt=int(n)**(1/2)\n",
    "    if str(sqrt).isdigit()==True:\n",
    "        return (sqrt+1)**2\n",
    "    return -1"
   ]
  },
  {
   "cell_type": "code",
   "execution_count": 60,
   "id": "89f9b3f3",
   "metadata": {},
   "outputs": [],
   "source": [
    "## n <= 0 조건 넣어줘야 한다. ##\n",
    "import math\n",
    "\n",
    "def solution(n):\n",
    "    if int(math.sqrt(n)) == math.sqrt(n):\n",
    "        return int((math.sqrt(n)+1)**2)\n",
    "    return -1"
   ]
  },
  {
   "cell_type": "code",
   "execution_count": 50,
   "id": "cbac2fdf",
   "metadata": {},
   "outputs": [
    {
     "data": {
      "text/plain": [
       "144"
      ]
     },
     "execution_count": 50,
     "metadata": {},
     "output_type": "execute_result"
    }
   ],
   "source": [
    "solution(121)"
   ]
  },
  {
   "cell_type": "code",
   "execution_count": 70,
   "id": "e2fe1ca4",
   "metadata": {},
   "outputs": [
    {
     "data": {
      "text/plain": [
       "873211"
      ]
     },
     "execution_count": 70,
     "metadata": {},
     "output_type": "execute_result"
    }
   ],
   "source": [
    "int(\"\".join(sorted((str(118372)), reverse=True)))"
   ]
  },
  {
   "cell_type": "code",
   "execution_count": 89,
   "id": "ca2b4a03",
   "metadata": {},
   "outputs": [
    {
     "data": {
      "text/plain": [
       "3"
      ]
     },
     "execution_count": 89,
     "metadata": {},
     "output_type": "execute_result"
    }
   ],
   "source": [
    "n=12\n",
    "sum([int(str(n)[i]) for i in range(0, len(str(n)))])"
   ]
  },
  {
   "cell_type": "code",
   "execution_count": 95,
   "id": "2375d84d",
   "metadata": {},
   "outputs": [],
   "source": [
    "def solution(signs, absolutes):\n",
    "    answer=0\n",
    "    for idx in range(0, len(signs)):\n",
    "        if signs[idx]==True:\n",
    "            answer+=absolutes[idx]\n",
    "        else:\n",
    "            answer-=absolutes[idx]\n",
    "    return answer"
   ]
  },
  {
   "cell_type": "code",
   "execution_count": 96,
   "id": "4ec2ad19",
   "metadata": {},
   "outputs": [
    {
     "data": {
      "text/plain": [
       "9"
      ]
     },
     "execution_count": 96,
     "metadata": {},
     "output_type": "execute_result"
    }
   ],
   "source": [
    "solution([True, False, True], [4,7,12])"
   ]
  },
  {
   "cell_type": "code",
   "execution_count": 127,
   "id": "05fc889c",
   "metadata": {},
   "outputs": [],
   "source": [
    "def solution(seoul):\n",
    "    for idx in range(0, len(seoul)):\n",
    "        if seoul[idx]==\"Kim\":\n",
    "            return f'김서방은 {idx}에 있다.'"
   ]
  },
  {
   "cell_type": "code",
   "execution_count": 128,
   "id": "4b277bac",
   "metadata": {},
   "outputs": [
    {
     "data": {
      "text/plain": [
       "'김서방은 1에 있다.'"
      ]
     },
     "execution_count": 128,
     "metadata": {},
     "output_type": "execute_result"
    }
   ],
   "source": [
    "solution([\"Jane\", \"Kim\"])"
   ]
  },
  {
   "cell_type": "code",
   "execution_count": 129,
   "id": "95b4a409",
   "metadata": {},
   "outputs": [],
   "source": [
    "def solution(seoul):\n",
    "    for idx in range(0, len(seoul)):\n",
    "        if seoul[idx]==\"Kim\":\n",
    "            return \"김서방은 {}에 있다\".format(idx)"
   ]
  },
  {
   "cell_type": "code",
   "execution_count": 130,
   "id": "4a298705",
   "metadata": {},
   "outputs": [
    {
     "data": {
      "text/plain": [
       "'김서방은 1에 있다'"
      ]
     },
     "execution_count": 130,
     "metadata": {},
     "output_type": "execute_result"
    }
   ],
   "source": [
    "solution([\"Jane\", \"Kim\"])"
   ]
  },
  {
   "cell_type": "code",
   "execution_count": 135,
   "id": "fa99ab1c",
   "metadata": {},
   "outputs": [],
   "source": [
    "def solution(n):\n",
    "    result=0 # count\n",
    "    count=0 # 500번 반복 시 1 되지 않는 경우, -1 반환\n",
    "    \n",
    "    if n==1:\n",
    "        return 1\n",
    "    \n",
    "    while True:\n",
    "        if n%2==0: # 짝수\n",
    "            n=n//2\n",
    "            result+=1\n",
    "            if n==1:\n",
    "                return result\n",
    "        else: # 홀수\n",
    "            n=n*3+1\n",
    "            result+=1\n",
    "            if n==1:\n",
    "                return result\n",
    "        count+=1\n",
    "        \n",
    "        if count==500:\n",
    "            return -1"
   ]
  },
  {
   "cell_type": "code",
   "execution_count": 136,
   "id": "21056cbf",
   "metadata": {},
   "outputs": [
    {
     "data": {
      "text/plain": [
       "-1"
      ]
     },
     "execution_count": 136,
     "metadata": {},
     "output_type": "execute_result"
    }
   ],
   "source": [
    "solution(626331)"
   ]
  },
  {
   "cell_type": "code",
   "execution_count": 143,
   "id": "7b41cc34",
   "metadata": {},
   "outputs": [],
   "source": [
    "def solution(numbers):\n",
    "    # n : 비교하고자 하는 숫자\n",
    "    result=0\n",
    "    for n in range(10):\n",
    "        if n not in numbers:\n",
    "            result+=n\n",
    "    return result"
   ]
  },
  {
   "cell_type": "code",
   "execution_count": 144,
   "id": "1ddda766",
   "metadata": {},
   "outputs": [
    {
     "data": {
      "text/plain": [
       "14"
      ]
     },
     "execution_count": 144,
     "metadata": {},
     "output_type": "execute_result"
    }
   ],
   "source": [
    "solution([1, 2, 3, 4, 6, 7, 8, 0])"
   ]
  },
  {
   "cell_type": "code",
   "execution_count": 175,
   "id": "61566cd3",
   "metadata": {},
   "outputs": [],
   "source": [
    "def solution(arr, divisor):\n",
    "    answer=[]\n",
    "    for num in arr:\n",
    "        if num%divisor==0:\n",
    "            answer.append(num)\n",
    "            \n",
    "    if answer==[]:\n",
    "        return [-1]\n",
    "    elif len(answer)==len(arr):\n",
    "        return sorted(answer)\n",
    "    return answer  "
   ]
  },
  {
   "cell_type": "code",
   "execution_count": 176,
   "id": "fa4cf258",
   "metadata": {},
   "outputs": [
    {
     "data": {
      "text/plain": [
       "[-1]"
      ]
     },
     "execution_count": 176,
     "metadata": {},
     "output_type": "execute_result"
    }
   ],
   "source": [
    "solution([3, 2, 6], 10)"
   ]
  },
  {
   "cell_type": "code",
   "execution_count": 179,
   "id": "30d330ad",
   "metadata": {},
   "outputs": [
    {
     "data": {
      "text/plain": [
       "5"
      ]
     },
     "execution_count": 179,
     "metadata": {},
     "output_type": "execute_result"
    }
   ],
   "source": [
    "len(\"027778888\"[:-4])"
   ]
  },
  {
   "cell_type": "code",
   "execution_count": null,
   "id": "cb0ed7e7",
   "metadata": {},
   "outputs": [],
   "source": []
  }
 ],
 "metadata": {
  "kernelspec": {
   "display_name": "Python 3 (ipykernel)",
   "language": "python",
   "name": "python3"
  },
  "language_info": {
   "codemirror_mode": {
    "name": "ipython",
    "version": 3
   },
   "file_extension": ".py",
   "mimetype": "text/x-python",
   "name": "python",
   "nbconvert_exporter": "python",
   "pygments_lexer": "ipython3",
   "version": "3.9.13"
  }
 },
 "nbformat": 4,
 "nbformat_minor": 5
}
