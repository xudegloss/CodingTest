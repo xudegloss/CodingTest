{
 "cells": [
  {
   "cell_type": "markdown",
   "id": "20f6b9c9",
   "metadata": {},
   "source": [
    "# <헷갈리는 문법 여기서 실행>"
   ]
  },
  {
   "cell_type": "code",
   "execution_count": 1,
   "id": "81ea3bd7",
   "metadata": {},
   "outputs": [
    {
     "data": {
      "text/plain": [
       "[1, 2, 3, 4, 5]"
      ]
     },
     "execution_count": 1,
     "metadata": {},
     "output_type": "execute_result"
    }
   ],
   "source": [
    "list([int(i) for i in str(12345)])"
   ]
  },
  {
   "cell_type": "code",
   "execution_count": 2,
   "id": "ae84b97c",
   "metadata": {},
   "outputs": [
    {
     "data": {
      "text/plain": [
       "[5, 4, 3, 2, 1]"
      ]
     },
     "execution_count": 2,
     "metadata": {},
     "output_type": "execute_result"
    }
   ],
   "source": [
    "list([int(i) for i in str(12345)])[::-1]"
   ]
  },
  {
   "cell_type": "code",
   "execution_count": 3,
   "id": "2462e04d",
   "metadata": {},
   "outputs": [],
   "source": [
    "## 틀린 풀이 (몇 개 비정상 동작) ##\n",
    "def solution(n):\n",
    "    sqrt=int(n)**(1/2)\n",
    "    if str(sqrt).isdigit()==True:\n",
    "        return (sqrt+1)**2\n",
    "    return -1"
   ]
  },
  {
   "cell_type": "code",
   "execution_count": 4,
   "id": "7ceec71e",
   "metadata": {},
   "outputs": [],
   "source": [
    "## n <= 0 조건 넣어줘야 한다. ##\n",
    "import math\n",
    "\n",
    "def solution(n):\n",
    "    if int(math.sqrt(n)) == math.sqrt(n):\n",
    "        return int((math.sqrt(n)+1)**2)\n",
    "    return -1"
   ]
  },
  {
   "cell_type": "code",
   "execution_count": 5,
   "id": "7d288cad",
   "metadata": {},
   "outputs": [
    {
     "data": {
      "text/plain": [
       "144"
      ]
     },
     "execution_count": 5,
     "metadata": {},
     "output_type": "execute_result"
    }
   ],
   "source": [
    "solution(121)"
   ]
  },
  {
   "cell_type": "code",
   "execution_count": 6,
   "id": "2ae85718",
   "metadata": {},
   "outputs": [
    {
     "data": {
      "text/plain": [
       "873211"
      ]
     },
     "execution_count": 6,
     "metadata": {},
     "output_type": "execute_result"
    }
   ],
   "source": [
    "int(\"\".join(sorted((str(118372)), reverse=True)))"
   ]
  },
  {
   "cell_type": "code",
   "execution_count": 7,
   "id": "abe03d87",
   "metadata": {},
   "outputs": [
    {
     "data": {
      "text/plain": [
       "3"
      ]
     },
     "execution_count": 7,
     "metadata": {},
     "output_type": "execute_result"
    }
   ],
   "source": [
    "n=12\n",
    "sum([int(str(n)[i]) for i in range(0, len(str(n)))])"
   ]
  },
  {
   "cell_type": "code",
   "execution_count": 8,
   "id": "29604e47",
   "metadata": {},
   "outputs": [],
   "source": [
    "def solution(signs, absolutes):\n",
    "    answer=0\n",
    "    for idx in range(0, len(signs)):\n",
    "        if signs[idx]==True:\n",
    "            answer+=absolutes[idx]\n",
    "        else:\n",
    "            answer-=absolutes[idx]\n",
    "    return answer"
   ]
  },
  {
   "cell_type": "code",
   "execution_count": 9,
   "id": "8ceea516",
   "metadata": {},
   "outputs": [
    {
     "data": {
      "text/plain": [
       "9"
      ]
     },
     "execution_count": 9,
     "metadata": {},
     "output_type": "execute_result"
    }
   ],
   "source": [
    "solution([True, False, True], [4,7,12])"
   ]
  },
  {
   "cell_type": "code",
   "execution_count": 10,
   "id": "e8c7c189",
   "metadata": {},
   "outputs": [],
   "source": [
    "def solution(seoul):\n",
    "    for idx in range(0, len(seoul)):\n",
    "        if seoul[idx]==\"Kim\":\n",
    "            return f'김서방은 {idx}에 있다.'"
   ]
  },
  {
   "cell_type": "code",
   "execution_count": 11,
   "id": "302ac06d",
   "metadata": {},
   "outputs": [
    {
     "data": {
      "text/plain": [
       "'김서방은 1에 있다.'"
      ]
     },
     "execution_count": 11,
     "metadata": {},
     "output_type": "execute_result"
    }
   ],
   "source": [
    "solution([\"Jane\", \"Kim\"])"
   ]
  },
  {
   "cell_type": "code",
   "execution_count": 12,
   "id": "85648393",
   "metadata": {},
   "outputs": [],
   "source": [
    "def solution(seoul):\n",
    "    for idx in range(0, len(seoul)):\n",
    "        if seoul[idx]==\"Kim\":\n",
    "            return \"김서방은 {}에 있다\".format(idx)"
   ]
  },
  {
   "cell_type": "code",
   "execution_count": 13,
   "id": "c3baf315",
   "metadata": {},
   "outputs": [
    {
     "data": {
      "text/plain": [
       "'김서방은 1에 있다'"
      ]
     },
     "execution_count": 13,
     "metadata": {},
     "output_type": "execute_result"
    }
   ],
   "source": [
    "solution([\"Jane\", \"Kim\"])"
   ]
  },
  {
   "cell_type": "code",
   "execution_count": 14,
   "id": "546284c7",
   "metadata": {},
   "outputs": [],
   "source": [
    "def solution(n):\n",
    "    result=0 # count\n",
    "    count=0 # 500번 반복 시 1 되지 않는 경우, -1 반환\n",
    "    \n",
    "    if n==1:\n",
    "        return 1\n",
    "    \n",
    "    while True:\n",
    "        if n%2==0: # 짝수\n",
    "            n=n//2\n",
    "            result+=1\n",
    "            if n==1:\n",
    "                return result\n",
    "        else: # 홀수\n",
    "            n=n*3+1\n",
    "            result+=1\n",
    "            if n==1:\n",
    "                return result\n",
    "        count+=1\n",
    "        \n",
    "        if count==500:\n",
    "            return -1"
   ]
  },
  {
   "cell_type": "code",
   "execution_count": 15,
   "id": "77b8ddd0",
   "metadata": {},
   "outputs": [
    {
     "data": {
      "text/plain": [
       "-1"
      ]
     },
     "execution_count": 15,
     "metadata": {},
     "output_type": "execute_result"
    }
   ],
   "source": [
    "solution(626331)"
   ]
  },
  {
   "cell_type": "code",
   "execution_count": 16,
   "id": "1345dfdf",
   "metadata": {},
   "outputs": [],
   "source": [
    "def solution(numbers):\n",
    "    # n : 비교하고자 하는 숫자\n",
    "    result=0\n",
    "    for n in range(10):\n",
    "        if n not in numbers:\n",
    "            result+=n\n",
    "    return result"
   ]
  },
  {
   "cell_type": "code",
   "execution_count": 17,
   "id": "382b3dec",
   "metadata": {},
   "outputs": [
    {
     "data": {
      "text/plain": [
       "14"
      ]
     },
     "execution_count": 17,
     "metadata": {},
     "output_type": "execute_result"
    }
   ],
   "source": [
    "solution([1, 2, 3, 4, 6, 7, 8, 0])"
   ]
  },
  {
   "cell_type": "code",
   "execution_count": 18,
   "id": "8099ea4d",
   "metadata": {},
   "outputs": [],
   "source": [
    "def solution(arr, divisor):\n",
    "    answer=[]\n",
    "    for num in arr:\n",
    "        if num%divisor==0:\n",
    "            answer.append(num)\n",
    "            \n",
    "    if answer==[]:\n",
    "        return [-1]\n",
    "    elif len(answer)==len(arr):\n",
    "        return sorted(answer)\n",
    "    return answer  "
   ]
  },
  {
   "cell_type": "code",
   "execution_count": 19,
   "id": "7094953d",
   "metadata": {},
   "outputs": [
    {
     "data": {
      "text/plain": [
       "[-1]"
      ]
     },
     "execution_count": 19,
     "metadata": {},
     "output_type": "execute_result"
    }
   ],
   "source": [
    "solution([3, 2, 6], 10)"
   ]
  },
  {
   "cell_type": "code",
   "execution_count": 20,
   "id": "99c12efe",
   "metadata": {},
   "outputs": [
    {
     "data": {
      "text/plain": [
       "5"
      ]
     },
     "execution_count": 20,
     "metadata": {},
     "output_type": "execute_result"
    }
   ],
   "source": [
    "len(\"027778888\"[:-4])"
   ]
  },
  {
   "cell_type": "code",
   "execution_count": 21,
   "id": "bdf486f2",
   "metadata": {},
   "outputs": [],
   "source": [
    "def solution(n):\n",
    "    answer=[]\n",
    "    for idx in range(n):\n",
    "        if idx%2==0: # idx 짝수\n",
    "            answer.append(\"수\")\n",
    "        else: # idx 홀수\n",
    "            answer.append(\"박\")\n",
    "    return \"\".join(answer) # join 함수"
   ]
  },
  {
   "cell_type": "code",
   "execution_count": 22,
   "id": "2c65d2df",
   "metadata": {},
   "outputs": [
    {
     "data": {
      "text/plain": [
       "'수박수'"
      ]
     },
     "execution_count": 22,
     "metadata": {},
     "output_type": "execute_result"
    }
   ],
   "source": [
    "solution(3)"
   ]
  },
  {
   "cell_type": "code",
   "execution_count": 23,
   "id": "03ed9010",
   "metadata": {},
   "outputs": [],
   "source": [
    "def solution(s):\n",
    "    if len(s)%2==1: # 홀수\n",
    "        return s[int(len(s))//2]\n",
    "    else: # 짝수\n",
    "        return s[int(len(s))//2-1:int(len(s))//2+1]"
   ]
  },
  {
   "cell_type": "code",
   "execution_count": 24,
   "id": "2886cee3",
   "metadata": {},
   "outputs": [
    {
     "data": {
      "text/plain": [
       "'c'"
      ]
     },
     "execution_count": 24,
     "metadata": {},
     "output_type": "execute_result"
    }
   ],
   "source": [
    "solution(\"abcde\")"
   ]
  },
  {
   "cell_type": "code",
   "execution_count": 25,
   "id": "93067ae7",
   "metadata": {},
   "outputs": [],
   "source": [
    "def solution(left, right):\n",
    "    _list=[]\n",
    "    for n in range(left, right+1):\n",
    "        count=0\n",
    "        for m in range(1, n+1):\n",
    "            if n%m==0:\n",
    "                count+=1\n",
    "        _list.append(count)\n",
    "    return _list"
   ]
  },
  {
   "cell_type": "code",
   "execution_count": 26,
   "id": "b48a177f",
   "metadata": {},
   "outputs": [
    {
     "data": {
      "text/plain": [
       "[2, 4, 4, 5, 2]"
      ]
     },
     "execution_count": 26,
     "metadata": {},
     "output_type": "execute_result"
    }
   ],
   "source": [
    "solution(13, 17)"
   ]
  },
  {
   "cell_type": "code",
   "execution_count": 27,
   "id": "657b83d2",
   "metadata": {},
   "outputs": [],
   "source": [
    "# 약수의 개수가 짝수인 경우, +\n",
    "# 약수의 개수가 홀수인 경우, -\n",
    "\n",
    "def solution(left, right):\n",
    "    _list=[]\n",
    "    for n in range(left, right+1):\n",
    "        count=0\n",
    "        for m in range(1, n+1):\n",
    "            if n%m==0:\n",
    "                count+=1\n",
    "        _list.append(count)\n",
    "    \n",
    "    answer=0\n",
    "    standard=[i for i in range(left, right+1)]\n",
    "    \n",
    "    for idx in range(len(_list)):\n",
    "        if _list[idx]%2==0: # 짝수\n",
    "            answer+=standard[idx]\n",
    "        else:\n",
    "            answer-=standard[idx]\n",
    "    return answer"
   ]
  },
  {
   "cell_type": "code",
   "execution_count": 28,
   "id": "a9783769",
   "metadata": {},
   "outputs": [
    {
     "data": {
      "text/plain": [
       "43"
      ]
     },
     "execution_count": 28,
     "metadata": {},
     "output_type": "execute_result"
    }
   ],
   "source": [
    "solution(13, 17)"
   ]
  },
  {
   "cell_type": "code",
   "execution_count": 29,
   "id": "a3e245b6",
   "metadata": {},
   "outputs": [
    {
     "data": {
      "text/plain": [
       "'gfedcbZ'"
      ]
     },
     "execution_count": 29,
     "metadata": {},
     "output_type": "execute_result"
    }
   ],
   "source": [
    "\"\".join(sorted(\"Zbcdefg\", reverse=True))"
   ]
  },
  {
   "cell_type": "code",
   "execution_count": 30,
   "id": "bb31e3d3",
   "metadata": {},
   "outputs": [
    {
     "data": {
      "text/plain": [
       "True"
      ]
     },
     "execution_count": 30,
     "metadata": {},
     "output_type": "execute_result"
    }
   ],
   "source": [
    "\"1234\".isdigit()"
   ]
  },
  {
   "cell_type": "code",
   "execution_count": 31,
   "id": "ee41b17a",
   "metadata": {},
   "outputs": [],
   "source": [
    "# 문자열 s의 길이가 4 혹은 6, 숫자 구성 -> True 출력\n",
    "# 나머지 -> False 출력\n",
    "\n",
    "def solution(s):\n",
    "    if len(s)==4 and s.isdigit()==True:\n",
    "        return True\n",
    "    elif len(s)==6 and s.isdigit()==True:\n",
    "        return True\n",
    "    return False"
   ]
  },
  {
   "cell_type": "code",
   "execution_count": 32,
   "id": "eb496499",
   "metadata": {},
   "outputs": [
    {
     "data": {
      "text/plain": [
       "False"
      ]
     },
     "execution_count": 32,
     "metadata": {},
     "output_type": "execute_result"
    }
   ],
   "source": [
    "solution(\"a234\")"
   ]
  },
  {
   "cell_type": "code",
   "execution_count": 33,
   "id": "fea7a117",
   "metadata": {},
   "outputs": [
    {
     "data": {
      "text/plain": [
       "4"
      ]
     },
     "execution_count": 33,
     "metadata": {},
     "output_type": "execute_result"
    }
   ],
   "source": [
    "len(\"1234\")"
   ]
  },
  {
   "cell_type": "code",
   "execution_count": 34,
   "id": "794e9b9c",
   "metadata": {},
   "outputs": [],
   "source": [
    "arr1=[[1,2],[2,3]]\n",
    "arr2=[[3,4],[5,6]]"
   ]
  },
  {
   "cell_type": "code",
   "execution_count": 35,
   "id": "71ae55ae",
   "metadata": {},
   "outputs": [
    {
     "name": "stdout",
     "output_type": "stream",
     "text": [
      "[1, 2] [3, 4]\n",
      "[2, 3] [5, 6]\n"
     ]
    }
   ],
   "source": [
    "for n, m in zip(arr1, arr2):\n",
    "    print(n, m)"
   ]
  },
  {
   "cell_type": "code",
   "execution_count": 36,
   "id": "4820c219",
   "metadata": {},
   "outputs": [
    {
     "name": "stdout",
     "output_type": "stream",
     "text": [
      "0 [1, 2]\n",
      "1 [2, 3]\n"
     ]
    }
   ],
   "source": [
    "for i, v in enumerate(arr1):\n",
    "    print(i, v)"
   ]
  },
  {
   "cell_type": "code",
   "execution_count": 37,
   "id": "4663813f",
   "metadata": {},
   "outputs": [
    {
     "name": "stdout",
     "output_type": "stream",
     "text": [
      "0 [1, 2] [3, 4]\n",
      "1 [2, 3] [5, 6]\n"
     ]
    }
   ],
   "source": [
    "for i, v in enumerate(arr1):\n",
    "    # i는 행 인덱스 의미\n",
    "    # j는 열 인덱스 의미\n",
    "    print(i, v, arr2[i])"
   ]
  },
  {
   "cell_type": "code",
   "execution_count": 38,
   "id": "4ffe594d",
   "metadata": {},
   "outputs": [],
   "source": [
    "result=[]\n",
    "for i, v in enumerate(arr1):\n",
    "    # i는 행 인덱스 의미\n",
    "    # j는 열 인덱스 의미\n",
    "    answer=[]\n",
    "    for j in range(len(v)):\n",
    "        answer.append(v[j] + arr2[i][j])\n",
    "    result.append(answer)"
   ]
  },
  {
   "cell_type": "code",
   "execution_count": 39,
   "id": "23005dfb",
   "metadata": {},
   "outputs": [],
   "source": [
    "def solution(arr1, arr2):\n",
    "    result=[]\n",
    "    for i, v in enumerate(arr1):\n",
    "    # i는 행 인덱스 의미\n",
    "    # j는 열 인덱스 의미\n",
    "        answer=[]\n",
    "        for j in range(len(v)):\n",
    "            answer.append(v[j] + arr2[i][j])\n",
    "        result.append(answer)\n",
    "    return result"
   ]
  },
  {
   "cell_type": "code",
   "execution_count": 40,
   "id": "e8883e46",
   "metadata": {},
   "outputs": [
    {
     "data": {
      "text/plain": [
       "[[4, 6], [7, 9]]"
      ]
     },
     "execution_count": 40,
     "metadata": {},
     "output_type": "execute_result"
    }
   ],
   "source": [
    "solution([[1,2],[2,3]], [[3,4],[5,6]])"
   ]
  },
  {
   "cell_type": "code",
   "execution_count": 41,
   "id": "0984073f",
   "metadata": {},
   "outputs": [
    {
     "data": {
      "text/plain": [
       "[1, 2, 3, 4]"
      ]
     },
     "execution_count": 41,
     "metadata": {},
     "output_type": "execute_result"
    }
   ],
   "source": [
    "[int(i) for i in \"1 2 3 4\".split()]"
   ]
  },
  {
   "cell_type": "code",
   "execution_count": 42,
   "id": "c4bb0290",
   "metadata": {},
   "outputs": [],
   "source": [
    "def solution(s):\n",
    "    _input=[int(i) for i in s.split()]\n",
    "    return str(min(_input))+\" \"+str(max(_input))"
   ]
  },
  {
   "cell_type": "code",
   "execution_count": 43,
   "id": "407ffec8",
   "metadata": {},
   "outputs": [
    {
     "data": {
      "text/plain": [
       "'1 4'"
      ]
     },
     "execution_count": 43,
     "metadata": {},
     "output_type": "execute_result"
    }
   ],
   "source": [
    "solution(\"1 2 3 4\")"
   ]
  },
  {
   "cell_type": "code",
   "execution_count": 44,
   "id": "2c4b4d6e",
   "metadata": {},
   "outputs": [
    {
     "name": "stdout",
     "output_type": "stream",
     "text": [
      "5 3\n"
     ]
    }
   ],
   "source": [
    "## 자주 사용할 것 같은데 ... ##\n",
    "a, b = map(int, input().strip().split(' '))"
   ]
  },
  {
   "cell_type": "code",
   "execution_count": 45,
   "id": "2a020d58",
   "metadata": {},
   "outputs": [
    {
     "name": "stdout",
     "output_type": "stream",
     "text": [
      "5 3\n"
     ]
    }
   ],
   "source": [
    "## strip 없어도 잘 동작 ... #\n",
    "a, b = map(int, input().split(' '))"
   ]
  },
  {
   "cell_type": "code",
   "execution_count": 46,
   "id": "8eee9fd2",
   "metadata": {},
   "outputs": [],
   "source": [
    "def solution(s):\n",
    "    s=s.split()\n",
    "    answer=[]\n",
    "    for idx in range(len(s)):\n",
    "        answer.append(s[idx][0].upper()+s[idx][1:].lower())\n",
    "    return \" \".join(answer)"
   ]
  },
  {
   "cell_type": "code",
   "execution_count": 47,
   "id": "66a8f3b6",
   "metadata": {},
   "outputs": [
    {
     "data": {
      "text/plain": [
       "'3people Unfollowed Me'"
      ]
     },
     "execution_count": 47,
     "metadata": {},
     "output_type": "execute_result"
    }
   ],
   "source": [
    "solution(\"3People unFollowed me\")"
   ]
  },
  {
   "cell_type": "code",
   "execution_count": 48,
   "id": "e4e09eca",
   "metadata": {},
   "outputs": [
    {
     "data": {
      "text/plain": [
       "'3people Unfollowed Me For The Last Week'"
      ]
     },
     "execution_count": 48,
     "metadata": {},
     "output_type": "execute_result"
    }
   ],
   "source": [
    "solution(\"3people unFollowed me for the last week\")"
   ]
  },
  {
   "cell_type": "code",
   "execution_count": 49,
   "id": "4a8aa874",
   "metadata": {},
   "outputs": [
    {
     "name": "stdout",
     "output_type": "stream",
     "text": [
      "3people Unfollowed Me For The Last Week\n"
     ]
    }
   ],
   "source": [
    "# 문제가 개편되었습니다. 이로 인해 함수 구성이나 테스트케이스가 변경되어, 과거의 코드는 동작하지 않을 수 있습니다.\n",
    "# 새로운 함수 구성을 적용하려면 [코드 초기화] 버튼을 누르세요. 단, [코드 초기화] 버튼을 누르면 작성 중인 코드는 사라집니다.\n",
    "\n",
    "def Jaden_Case(s):\n",
    "    answer =[]\n",
    "    for i in range(len(s.split())):\n",
    "        answer.append(s.split()[i][0].upper() + s.split()[i].lower()[1:]) \n",
    "    return \" \".join(answer)\n",
    "\n",
    "# 아래는 테스트로 출력해 보기 위한 코드입니다.\n",
    "print(Jaden_Case(\"3people unFollowed me for the last week\"))"
   ]
  },
  {
   "cell_type": "code",
   "execution_count": 50,
   "id": "15945531",
   "metadata": {},
   "outputs": [],
   "source": [
    "def solution(s):\n",
    "    answer =[]\n",
    "    s_list=s.split()\n",
    "    \n",
    "    for i in range(len(s_list)):\n",
    "        answer.append(s_list[i][0].upper() + s_list[i][1:].lower()) \n",
    "    return \" \".join(answer)"
   ]
  },
  {
   "cell_type": "code",
   "execution_count": 51,
   "id": "28b2dc15",
   "metadata": {},
   "outputs": [],
   "source": [
    "def solution(s):\n",
    "    answer = []\n",
    "    s = s.split(\" \")\n",
    "    for word in s:\n",
    "        if word:\n",
    "            answer.append(word[0].upper() + word[1:].lower())\n",
    "        else:\n",
    "            answer.append(word.lower())\n",
    "    return \" \".join(answer)"
   ]
  },
  {
   "cell_type": "code",
   "execution_count": 52,
   "id": "5c49d27a",
   "metadata": {},
   "outputs": [
    {
     "name": "stdout",
     "output_type": "stream",
     "text": [
      "3people Unfollowed Me For The Last Week\n"
     ]
    }
   ],
   "source": [
    "print(solution(\"3people unFollowed me for the last week\"))"
   ]
  },
  {
   "cell_type": "code",
   "execution_count": 53,
   "id": "9685e14b",
   "metadata": {},
   "outputs": [],
   "source": [
    "def solution(s):\n",
    "    s=s.split()\n",
    "    answer=[]\n",
    "    for idx in range(len(s)):\n",
    "        answer.append(s[idx][0].upper()+s[idx][1:].lower())\n",
    "    return \" \".join(answer)"
   ]
  },
  {
   "cell_type": "code",
   "execution_count": 54,
   "id": "409585c1",
   "metadata": {},
   "outputs": [
    {
     "name": "stdout",
     "output_type": "stream",
     "text": [
      "3people Unfollowed Me For The Last Week\n"
     ]
    }
   ],
   "source": [
    "print(solution(\"3people unFollowed me for the last week\"))"
   ]
  },
  {
   "cell_type": "code",
   "execution_count": 55,
   "id": "eee6d862",
   "metadata": {},
   "outputs": [
    {
     "data": {
      "text/plain": [
       "[1, 2, 4]"
      ]
     },
     "execution_count": 55,
     "metadata": {},
     "output_type": "execute_result"
    }
   ],
   "source": [
    "sorted([1,4,2]) # 오름차순 정렬"
   ]
  },
  {
   "cell_type": "code",
   "execution_count": 56,
   "id": "e3b55f26",
   "metadata": {},
   "outputs": [],
   "source": [
    "# \"(\"가 오면 반드시 \")\"\n",
    "\n",
    "def solution(s):\n",
    "    stack=[]\n",
    "    for string in s:\n",
    "        stack.append(string)\n",
    "        if len(stack)>=2:\n",
    "            if \"\".join(stack[len(stack)-2:len(stack)]) == \"()\":\n",
    "                stack.pop()\n",
    "                stack.pop()\n",
    "                \n",
    "    if len(stack)==0:\n",
    "        return True\n",
    "    return False"
   ]
  },
  {
   "cell_type": "code",
   "execution_count": 57,
   "id": "9dcfd8fc",
   "metadata": {},
   "outputs": [
    {
     "data": {
      "text/plain": [
       "True"
      ]
     },
     "execution_count": 57,
     "metadata": {},
     "output_type": "execute_result"
    }
   ],
   "source": [
    "solution(\"()()\")"
   ]
  },
  {
   "cell_type": "code",
   "execution_count": 58,
   "id": "3493c46f",
   "metadata": {},
   "outputs": [
    {
     "name": "stdout",
     "output_type": "stream",
     "text": [
      "12\n"
     ]
    }
   ],
   "source": [
    "i=1\n",
    "m=12\n",
    "n=3\n",
    "\n",
    "while True:\n",
    "    if m>n:\n",
    "        m=m*i\n",
    "        if m%n==0:\n",
    "            answer2=m\n",
    "            print(answer2)\n",
    "            break\n",
    "    i+=1"
   ]
  },
  {
   "cell_type": "code",
   "execution_count": 64,
   "id": "bce407a5",
   "metadata": {},
   "outputs": [],
   "source": [
    "def solution(n ,m):\n",
    "    # 1. 최대공약수 구하기\n",
    "    n_list=[] # n의 공약수 모음\n",
    "    m_list=[] # m의 공약수 모음\n",
    "    \n",
    "    for n_num in range(1, n+1):\n",
    "        if n%n_num==0:\n",
    "            n_list.append(n_num)\n",
    "    \n",
    "    for m_num in range(1, m+1):\n",
    "        if m%m_num==0:\n",
    "            m_list.append(m_num)\n",
    "        \n",
    "    answer_max=[]    \n",
    "    for i in range(len(m_list)):\n",
    "        if m_list[i] in n_list:\n",
    "            answer_max.append(m_list[i])\n",
    "    answer1= max(answer_max)\n",
    "    \n",
    "    # 2. 최소공배수 구하기\n",
    "    i=1\n",
    "    answer2=0\n",
    "    \n",
    "    if m<n:\n",
    "        m,n = n,m\n",
    "        \n",
    "    while True:\n",
    "        m=m*i\n",
    "        if m%n==0:\n",
    "            answer2=m\n",
    "            break\n",
    "        i+=1\n",
    "            \n",
    "        \n",
    "    answer=[]\n",
    "    answer.append(answer1)\n",
    "    answer.append(answer2)\n",
    "    \n",
    "    return answer"
   ]
  },
  {
   "cell_type": "code",
   "execution_count": 66,
   "id": "76b37e9e",
   "metadata": {},
   "outputs": [
    {
     "data": {
      "text/plain": [
       "[1, 10]"
      ]
     },
     "execution_count": 66,
     "metadata": {},
     "output_type": "execute_result"
    }
   ],
   "source": [
    "solution(5, 2)"
   ]
  },
  {
   "cell_type": "code",
   "execution_count": 67,
   "id": "2abc2b58",
   "metadata": {},
   "outputs": [
    {
     "data": {
      "text/plain": [
       "[3, 12]"
      ]
     },
     "execution_count": 67,
     "metadata": {},
     "output_type": "execute_result"
    }
   ],
   "source": [
    "solution(12, 3)"
   ]
  },
  {
   "cell_type": "code",
   "execution_count": null,
   "id": "3bcbab33",
   "metadata": {},
   "outputs": [],
   "source": []
  }
 ],
 "metadata": {
  "kernelspec": {
   "display_name": "Python 3 (ipykernel)",
   "language": "python",
   "name": "python3"
  },
  "language_info": {
   "codemirror_mode": {
    "name": "ipython",
    "version": 3
   },
   "file_extension": ".py",
   "mimetype": "text/x-python",
   "name": "python",
   "nbconvert_exporter": "python",
   "pygments_lexer": "ipython3",
   "version": "3.9.13"
  }
 },
 "nbformat": 4,
 "nbformat_minor": 5
}
