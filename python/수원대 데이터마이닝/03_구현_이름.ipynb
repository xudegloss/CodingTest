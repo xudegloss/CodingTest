{
 "cells": [
  {
   "cell_type": "code",
   "execution_count": 1,
   "metadata": {
    "ExecuteTime": {
     "end_time": "2019-09-10T04:00:05.497613Z",
     "start_time": "2019-09-10T04:00:05.491632Z"
    }
   },
   "outputs": [
    {
     "data": {
      "text/html": [
       "<style>.container { width:100% !important; }</style>"
      ],
      "text/plain": [
       "<IPython.core.display.HTML object>"
      ]
     },
     "metadata": {},
     "output_type": "display_data"
    },
    {
     "data": {
      "text/html": [
       "<style>\n",
       "div.CodeMirror, div.CodeMirror pre, div.CodeMirror-code,\n",
       "div.output_area pre, div.output_wrapper pre,\n",
       ".text_cell_render, .text_cell_render *\n",
       "{ font-family: Consolas; font-size: 15pt; line-height: 140%;}\n",
       "</style>"
      ],
      "text/plain": [
       "<IPython.core.display.HTML object>"
      ]
     },
     "metadata": {},
     "output_type": "display_data"
    }
   ],
   "source": [
    "from IPython.display import display, HTML, Markdown\n",
    "display(HTML(\"<style>.container { width:100% !important; }</style>\"))\n",
    "display(HTML(\"\"\"<style>\n",
    "div.CodeMirror, div.CodeMirror pre, div.CodeMirror-code,\n",
    "div.output_area pre, div.output_wrapper pre,\n",
    ".text_cell_render, .text_cell_render *\n",
    "{ font-family: Consolas; font-size: 15pt; line-height: 140%;}\n",
    "</style>\"\"\"))"
   ]
  },
  {
   "cell_type": "markdown",
   "metadata": {},
   "source": [
    "# 파일 이름에서 '학번'을 자신의 학번으로, '이름'을 자신의 이름으로 고치시오."
   ]
  },
  {
   "cell_type": "markdown",
   "metadata": {},
   "source": [
    "## 문제1\n",
    "\n",
    "아래와 같이 출력하는 코드를 완성하시오.\n",
    "\n",
    "\n",
    "***결과***\n",
    "```\n",
    "(0, 0) (0, 1) (0, 2) (0, 3) (0, 4) \n",
    "(1, 0) (1, 1) (1, 2) (1, 3) (1, 4) \n",
    "(2, 0) (2, 1) (2, 2) (2, 3) (2, 4) \n",
    "(3, 0) (3, 1) (3, 2) (3, 3) (3, 4) \n",
    "```\n"
   ]
  },
  {
   "cell_type": "code",
   "execution_count": null,
   "metadata": {
    "ExecuteTime": {
     "end_time": "2022-03-28T04:56:04.761265Z",
     "start_time": "2022-03-28T04:56:04.754283Z"
    },
    "scrolled": false
   },
   "outputs": [],
   "source": []
  },
  {
   "cell_type": "markdown",
   "metadata": {},
   "source": [
    "## 문제2\n",
    "\n",
    "```\n",
    "  여행가 A는 N × N 크기의 정사각형 공간 위에 서 있습니다. 이 공간은 1 × 1 크기의 정사각형으로 나누어져 있습니다. 가장 왼쪽 위 좌표는 (1, 1)이며, 가장 오른쪽 아래 좌표는 (N, N)에 해당합니다. 여행가 A는 상, 하, 좌, 우 방향으로 이동할 수 있으며, 시작 좌표는 항상 (1, 1)입니다. 우리 앞에는 여행가 A가 이동할 계획이 적힌 계획서가 놓여 있습니다.\n",
    "\n",
    "  계획서에는 하나의 줄에 띄어쓰기를 기준으로 하여 L, R, U, D 중 하나의 문자가 반복적으로 적혀 있습니다. 각 문자의 의미는 다음과 같습니다.\n",
    "\n",
    "L: 왼쪽으로 한 칸 이동\n",
    "R: 오른쪽으로 한 칸 이동\n",
    "U: 위로 한 칸 이동\n",
    "D: 아래로 한 칸 이동\n",
    "```\n",
    "\n",
    "***결과***\n",
    "```\n",
    "(1, 2)\n",
    "(3, 4)\n",
    "```"
   ]
  },
  {
   "cell_type": "code",
   "execution_count": 1,
   "metadata": {
    "ExecuteTime": {
     "end_time": "2022-03-28T05:09:37.087245Z",
     "start_time": "2022-03-28T05:09:37.066774Z"
    }
   },
   "outputs": [
    {
     "name": "stdout",
     "output_type": "stream",
     "text": [
      "None\n",
      "None\n"
     ]
    }
   ],
   "source": [
    "def move_plans(n, plans):\n",
    "    pass\n",
    "\n",
    "print(move_plans(5, 'D D L R U U U'))\n",
    "print(move_plans(5, 'R R R U D D'))\n"
   ]
  },
  {
   "cell_type": "markdown",
   "metadata": {},
   "source": [
    "## 문제3\n",
    "\n",
    "프로그래머스 문제\n",
    "https://programmers.co.kr/learn/courses/30/lessons/68644\n",
    "\n",
    "위 문제를 풀고 코드를 붙여 넣으세요.\n",
    "\n",
    "***결과***\n",
    "```\n",
    "[2, 3, 4, 5, 6, 7]\n",
    "[2, 5, 7, 9, 12]\n",
    "```\n",
    "\n"
   ]
  },
  {
   "cell_type": "code",
   "execution_count": 2,
   "metadata": {
    "ExecuteTime": {
     "end_time": "2022-03-28T05:16:03.718518Z",
     "start_time": "2022-03-28T05:16:03.713973Z"
    },
    "scrolled": true
   },
   "outputs": [
    {
     "name": "stdout",
     "output_type": "stream",
     "text": [
      "None\n",
      "None\n"
     ]
    }
   ],
   "source": [
    "def solution(numbers):\n",
    "    pass\n",
    "\n",
    "print(solution([2,1,3,4,1]))\n",
    "print(solution([5,0,2,7]))"
   ]
  },
  {
   "cell_type": "markdown",
   "metadata": {},
   "source": [
    "# 문제4\n",
    "\n",
    "문자열 재정렬\n",
    "\n",
    "알파벳 대문자와 숫자(0 ~ 9)로만 구성된 문자열이 입력으로 주어집니다. 이때 모든 알파벳을 오름차순으로 정렬하여 이어서 출력한 뒤에, 그 뒤에 모든 숫자를 더한 값을 이어서 출력합니다.\n",
    "예를 들어 K1KA5CB7이라는 값이 들어오면 ABCKK13을 출력합니다.\n",
    "\n",
    "***결과***\n",
    "```\n",
    "ABCKK6\n",
    "```\n"
   ]
  },
  {
   "cell_type": "code",
   "execution_count": 3,
   "metadata": {},
   "outputs": [],
   "source": [
    "from io import StringIO\n",
    "\n",
    "## 입력 문자열\n",
    "input_str = \\\n",
    "\"\"\"\n",
    "K1KA5CB\n",
    "\"\"\"\n",
    "\n",
    "## 문자열을 스트림으로 바꾸는 방법\n",
    "stream = StringIO(input_str.strip())\n",
    "input = stream.readline\n",
    "\n",
    "## 아래에 코드를 작성하시오.\n",
    "\n"
   ]
  }
 ],
 "metadata": {
  "kernelspec": {
   "display_name": "Python 3 (ipykernel)",
   "language": "python",
   "name": "python3"
  },
  "language_info": {
   "codemirror_mode": {
    "name": "ipython",
    "version": 3
   },
   "file_extension": ".py",
   "mimetype": "text/x-python",
   "name": "python",
   "nbconvert_exporter": "python",
   "pygments_lexer": "ipython3",
   "version": "3.9.13"
  }
 },
 "nbformat": 4,
 "nbformat_minor": 2
}
