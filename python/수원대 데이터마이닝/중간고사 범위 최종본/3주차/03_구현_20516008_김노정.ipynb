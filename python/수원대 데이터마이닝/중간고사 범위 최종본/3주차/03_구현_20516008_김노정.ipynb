{
 "cells": [
  {
   "cell_type": "code",
   "execution_count": 1,
   "metadata": {
    "ExecuteTime": {
     "end_time": "2019-09-10T04:00:05.497613Z",
     "start_time": "2019-09-10T04:00:05.491632Z"
    }
   },
   "outputs": [
    {
     "data": {
      "text/html": [
       "<style>.container { width:100% !important; }</style>"
      ],
      "text/plain": [
       "<IPython.core.display.HTML object>"
      ]
     },
     "metadata": {},
     "output_type": "display_data"
    },
    {
     "data": {
      "text/html": [
       "<style>\n",
       "div.CodeMirror, div.CodeMirror pre, div.CodeMirror-code,\n",
       "div.output_area pre, div.output_wrapper pre,\n",
       ".text_cell_render, .text_cell_render *\n",
       "{ font-family: Consolas; font-size: 15pt; line-height: 140%;}\n",
       "</style>"
      ],
      "text/plain": [
       "<IPython.core.display.HTML object>"
      ]
     },
     "metadata": {},
     "output_type": "display_data"
    }
   ],
   "source": [
    "from IPython.display import display, HTML, Markdown\n",
    "display(HTML(\"<style>.container { width:100% !important; }</style>\"))\n",
    "display(HTML(\"\"\"<style>\n",
    "div.CodeMirror, div.CodeMirror pre, div.CodeMirror-code,\n",
    "div.output_area pre, div.output_wrapper pre,\n",
    ".text_cell_render, .text_cell_render *\n",
    "{ font-family: Consolas; font-size: 15pt; line-height: 140%;}\n",
    "</style>\"\"\"))"
   ]
  },
  {
   "cell_type": "markdown",
   "metadata": {},
   "source": [
    "# 파일 이름에서 '학번'을 자신의 학번으로, '이름'을 자신의 이름으로 고치시오."
   ]
  },
  {
   "cell_type": "markdown",
   "metadata": {},
   "source": [
    "## 문제1\n",
    "\n",
    "아래와 같이 출력하는 코드를 완성하시오.\n",
    "\n",
    "\n",
    "***결과***\n",
    "```\n",
    "(0, 0) (0, 1) (0, 2) (0, 3) (0, 4) \n",
    "(1, 0) (1, 1) (1, 2) (1, 3) (1, 4) \n",
    "(2, 0) (2, 1) (2, 2) (2, 3) (2, 4) \n",
    "(3, 0) (3, 1) (3, 2) (3, 3) (3, 4) \n",
    "```\n"
   ]
  },
  {
   "cell_type": "code",
   "execution_count": 7,
   "metadata": {
    "ExecuteTime": {
     "end_time": "2022-03-28T04:56:04.761265Z",
     "start_time": "2022-03-28T04:56:04.754283Z"
    },
    "scrolled": false
   },
   "outputs": [
    {
     "name": "stdout",
     "output_type": "stream",
     "text": [
      "(0, 0) (0, 1) (0, 2) (0, 3) (0, 4) \n",
      "(1, 0) (1, 1) (1, 2) (1, 3) (1, 4) \n",
      "(2, 0) (2, 1) (2, 2) (2, 3) (2, 4) \n",
      "(3, 0) (3, 1) (3, 2) (3, 3) (3, 4) \n"
     ]
    }
   ],
   "source": [
    "for i in range(0, 4):\n",
    "    for j in range(0, 5):\n",
    "        print(f\"({i}, {j})\", end=\" \")\n",
    "    print()"
   ]
  },
  {
   "cell_type": "markdown",
   "metadata": {},
   "source": [
    "## 문제2\n",
    "\n",
    "```\n",
    "  여행가 A는 N × N 크기의 정사각형 공간 위에 서 있습니다. 이 공간은 1 × 1 크기의 정사각형으로 나누어져 있습니다. 가장 왼쪽 위 좌표는 (1, 1)이며, 가장 오른쪽 아래 좌표는 (N, N)에 해당합니다. 여행가 A는 상, 하, 좌, 우 방향으로 이동할 수 있으며, 시작 좌표는 항상 (1, 1)입니다. 우리 앞에는 여행가 A가 이동할 계획이 적힌 계획서가 놓여 있습니다.\n",
    "\n",
    "  계획서에는 하나의 줄에 띄어쓰기를 기준으로 하여 L, R, U, D 중 하나의 문자가 반복적으로 적혀 있습니다. 각 문자의 의미는 다음과 같습니다.\n",
    "\n",
    "L: 왼쪽으로 한 칸 이동\n",
    "R: 오른쪽으로 한 칸 이동\n",
    "U: 위로 한 칸 이동\n",
    "D: 아래로 한 칸 이동\n",
    "```\n",
    "\n",
    "***결과***\n",
    "```\n",
    "(1, 2)\n",
    "(3, 4)\n",
    "```"
   ]
  },
  {
   "cell_type": "code",
   "execution_count": 34,
   "metadata": {
    "ExecuteTime": {
     "end_time": "2022-03-28T05:09:37.087245Z",
     "start_time": "2022-03-28T05:09:37.066774Z"
    }
   },
   "outputs": [
    {
     "name": "stdout",
     "output_type": "stream",
     "text": [
      "(1, 2)\n",
      "(3, 4)\n"
     ]
    }
   ],
   "source": [
    "# 만약에 밖으로 넘어가면 무시한다.\n",
    "## 나중에 다시 풀어보기!!!\n",
    "\n",
    "def move_plans(n, plans):\n",
    "    location={\n",
    "        \"R\": [0, 1],\n",
    "        \"L\": [0, -1],\n",
    "        \"D\": [1, 0],\n",
    "        \"U\": [-1, 0]\n",
    "    }\n",
    "    \n",
    "    x, y = (1, 1)\n",
    "    for plan in plans.split(\" \"):\n",
    "        if plan in location:\n",
    "            nx, ny = x + location[plan][0], y + location[plan][1]\n",
    "            if nx>n or ny>n or nx<1 or ny<1:\n",
    "                continue\n",
    "        x, y = nx, ny\n",
    "    return x, y\n",
    "    pass\n",
    "\n",
    "print(move_plans(5, 'D D L R U U U'))\n",
    "print(move_plans(5, 'R R R U D D'))"
   ]
  },
  {
   "cell_type": "markdown",
   "metadata": {},
   "source": [
    "## 문제3\n",
    "\n",
    "프로그래머스 문제\n",
    "https://programmers.co.kr/learn/courses/30/lessons/68644\n",
    "\n",
    "위 문제를 풀고 코드를 붙여 넣으세요.\n",
    "\n",
    "***결과***\n",
    "```\n",
    "[2, 3, 4, 5, 6, 7]\n",
    "[2, 5, 7, 9, 12]\n",
    "```\n",
    "\n"
   ]
  },
  {
   "cell_type": "code",
   "execution_count": 2,
   "metadata": {
    "ExecuteTime": {
     "end_time": "2022-03-28T05:16:03.718518Z",
     "start_time": "2022-03-28T05:16:03.713973Z"
    },
    "scrolled": true
   },
   "outputs": [
    {
     "name": "stdout",
     "output_type": "stream",
     "text": [
      "None\n",
      "None\n"
     ]
    }
   ],
   "source": [
    "def solution(numbers):\n",
    "    pass\n",
    "\n",
    "print(solution([2,1,3,4,1]))\n",
    "print(solution([5,0,2,7]))"
   ]
  },
  {
   "cell_type": "markdown",
   "metadata": {},
   "source": [
    "## 문제4\n",
    "\n",
    "문자열 재정렬\n",
    "\n",
    "알파벳 대문자와 숫자(0 ~ 9)로만 구성된 문자열이 입력으로 주어집니다. 이때 모든 알파벳을 오름차순으로 정렬하여 이어서 출력한 뒤에, 그 뒤에 모든 숫자를 더한 값을 이어서 출력합니다.\n",
    "예를 들어 K1KA5CB7이라는 값이 들어오면 ABCKK13을 출력합니다.\n",
    "\n",
    "***결과***\n",
    "```\n",
    "ABCKK6\n",
    "```\n"
   ]
  },
  {
   "cell_type": "code",
   "execution_count": 71,
   "metadata": {},
   "outputs": [
    {
     "name": "stdout",
     "output_type": "stream",
     "text": [
      "ABCKK6\n"
     ]
    }
   ],
   "source": [
    "from io import StringIO\n",
    "\n",
    "## 입력 문자열\n",
    "input_str = \\\n",
    "\"\"\"\n",
    "K1KA5CB\n",
    "\"\"\"\n",
    "\n",
    "## 문자열을 스트림으로 바꾸는 방법\n",
    "stream = StringIO(input_str.strip())\n",
    "input = stream.readline\n",
    "\n",
    "## 아래에 코드를 작성하시오.\n",
    "\n",
    "s=list(input())\n",
    "s.sort()\n",
    "num=0\n",
    "answer=[]\n",
    "\n",
    "for string in s:\n",
    "    if string.isdigit()==True:\n",
    "        num+=int(string)\n",
    "    else:\n",
    "        answer.append(string)\n",
    "\n",
    "print(\"\".join(map(str, answer))+str(num))"
   ]
  },
  {
   "cell_type": "code",
   "execution_count": 72,
   "metadata": {},
   "outputs": [
    {
     "name": "stdout",
     "output_type": "stream",
     "text": [
      "ABCKK13\n"
     ]
    }
   ],
   "source": [
    "s=list(\"K1KA5CB7\")\n",
    "s.sort()\n",
    "num=0\n",
    "answer=[]\n",
    "\n",
    "for string in s:\n",
    "    if string.isdigit()==True:\n",
    "        num+=int(string)\n",
    "    else:\n",
    "        answer.append(string)\n",
    "\n",
    "print(\"\".join(map(str, answer))+str(num))"
   ]
  },
  {
   "cell_type": "markdown",
   "metadata": {},
   "source": [
    "## 문제 5\n",
    "\n",
    "시각 문제"
   ]
  },
  {
   "cell_type": "code",
   "execution_count": 36,
   "metadata": {},
   "outputs": [
    {
     "data": {
      "text/plain": [
       "11475"
      ]
     },
     "execution_count": 36,
     "metadata": {},
     "output_type": "execute_result"
    }
   ],
   "source": [
    "(6*60*60) - (5*45*45)"
   ]
  },
  {
   "cell_type": "code",
   "execution_count": 38,
   "metadata": {},
   "outputs": [
    {
     "name": "stdout",
     "output_type": "stream",
     "text": [
      "11475\n"
     ]
    }
   ],
   "source": [
    "# 모든 경우 - 3이 하나도 없는 경우\n",
    "# 모든 경우 : (n+1) X 60 X 60\n",
    "# 3이 하나도 없는 경우 : n X 45 X 45\n",
    "\n",
    "def solution(n):\n",
    "    return (n+1)*60*60-n*45*45\n",
    "\n",
    "print(solution(5))"
   ]
  },
  {
   "cell_type": "markdown",
   "metadata": {},
   "source": [
    "## 문제 6\n",
    "\n",
    "왕실의 나이트"
   ]
  },
  {
   "cell_type": "code",
   "execution_count": 40,
   "metadata": {},
   "outputs": [
    {
     "data": {
      "text/plain": [
       "1"
      ]
     },
     "execution_count": 40,
     "metadata": {},
     "output_type": "execute_result"
    }
   ],
   "source": [
    "## 아스키 코드\n",
    "ord(\"a\")-96"
   ]
  },
  {
   "cell_type": "code",
   "execution_count": 57,
   "metadata": {},
   "outputs": [
    {
     "name": "stdout",
     "output_type": "stream",
     "text": [
      "2\n",
      "6\n"
     ]
    }
   ],
   "source": [
    "def solution(s):\n",
    "    row=s[1]\n",
    "    col=ord(s[0])-96\n",
    "    \n",
    "    moves={\n",
    "        \"m1\": [-2, 1],\n",
    "        \"m2\": [-2, -1],\n",
    "        \"m3\": [2, 1],\n",
    "        \"m4\": [2, -1],\n",
    "        \"m5\": [1, 2],\n",
    "        \"m6\": [1, -2],\n",
    "        \"m7\": [-1, 2],\n",
    "        \"m8\": [-1, -2]\n",
    "    }\n",
    "    \n",
    "    cnt=0\n",
    "    for move in moves:\n",
    "        row, col=int(row), int(col)\n",
    "        nr, nc = row+moves[move][0], col+moves[move][1]\n",
    "        if nr>8 or nc>8 or nr<1 or nc<1:\n",
    "            continue\n",
    "        else:\n",
    "            cnt+=1\n",
    "    return cnt\n",
    "\n",
    "print(solution(\"a1\"))\n",
    "print(solution(\"c2\"))"
   ]
  }
 ],
 "metadata": {
  "kernelspec": {
   "display_name": "Python 3 (ipykernel)",
   "language": "python",
   "name": "python3"
  },
  "language_info": {
   "codemirror_mode": {
    "name": "ipython",
    "version": 3
   },
   "file_extension": ".py",
   "mimetype": "text/x-python",
   "name": "python",
   "nbconvert_exporter": "python",
   "pygments_lexer": "ipython3",
   "version": "3.9.13"
  }
 },
 "nbformat": 4,
 "nbformat_minor": 2
}
