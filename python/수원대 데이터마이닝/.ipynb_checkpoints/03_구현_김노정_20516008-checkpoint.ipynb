{
 "cells": [
  {
   "cell_type": "code",
   "execution_count": 1,
   "metadata": {
    "ExecuteTime": {
     "end_time": "2019-09-10T04:00:05.497613Z",
     "start_time": "2019-09-10T04:00:05.491632Z"
    }
   },
   "outputs": [
    {
     "data": {
      "text/html": [
       "<style>.container { width:100% !important; }</style>"
      ],
      "text/plain": [
       "<IPython.core.display.HTML object>"
      ]
     },
     "metadata": {},
     "output_type": "display_data"
    },
    {
     "data": {
      "text/html": [
       "<style>\n",
       "div.CodeMirror, div.CodeMirror pre, div.CodeMirror-code,\n",
       "div.output_area pre, div.output_wrapper pre,\n",
       ".text_cell_render, .text_cell_render *\n",
       "{ font-family: Consolas; font-size: 15pt; line-height: 140%;}\n",
       "</style>"
      ],
      "text/plain": [
       "<IPython.core.display.HTML object>"
      ]
     },
     "metadata": {},
     "output_type": "display_data"
    }
   ],
   "source": [
    "from IPython.display import display, HTML, Markdown\n",
    "display(HTML(\"<style>.container { width:100% !important; }</style>\"))\n",
    "display(HTML(\"\"\"<style>\n",
    "div.CodeMirror, div.CodeMirror pre, div.CodeMirror-code,\n",
    "div.output_area pre, div.output_wrapper pre,\n",
    ".text_cell_render, .text_cell_render *\n",
    "{ font-family: Consolas; font-size: 15pt; line-height: 140%;}\n",
    "</style>\"\"\"))"
   ]
  },
  {
   "cell_type": "markdown",
   "metadata": {},
   "source": [
    "# 파일 이름에서 '학번'을 자신의 학번으로, '이름'을 자신의 이름으로 고치시오."
   ]
  },
  {
   "cell_type": "markdown",
   "metadata": {},
   "source": [
    "## 문제1\n",
    "\n",
    "아래와 같이 출력하는 코드를 완성하시오.\n",
    "\n",
    "\n",
    "***결과***\n",
    "```\n",
    "(0, 0) (0, 1) (0, 2) (0, 3) (0, 4) \n",
    "(1, 0) (1, 1) (1, 2) (1, 3) (1, 4) \n",
    "(2, 0) (2, 1) (2, 2) (2, 3) (2, 4) \n",
    "(3, 0) (3, 1) (3, 2) (3, 3) (3, 4) \n",
    "```\n"
   ]
  },
  {
   "cell_type": "code",
   "execution_count": 2,
   "metadata": {
    "ExecuteTime": {
     "end_time": "2022-03-28T04:56:04.761265Z",
     "start_time": "2022-03-28T04:56:04.754283Z"
    },
    "scrolled": false
   },
   "outputs": [
    {
     "name": "stdout",
     "output_type": "stream",
     "text": [
      "(0, 0) (0, 1) (0, 2) (0, 3) (0, 4) \n",
      "(1, 0) (1, 1) (1, 2) (1, 3) (1, 4) \n",
      "(2, 0) (2, 1) (2, 2) (2, 3) (2, 4) \n",
      "(3, 0) (3, 1) (3, 2) (3, 3) (3, 4) \n"
     ]
    }
   ],
   "source": [
    "for i in range(0, 4):\n",
    "    for j in range(0, 5):\n",
    "        print(f\"({i}, {j})\", end=\" \")\n",
    "    print() # 줄 바꿈"
   ]
  },
  {
   "cell_type": "markdown",
   "metadata": {},
   "source": [
    "## 구현"
   ]
  },
  {
   "cell_type": "markdown",
   "metadata": {},
   "source": [
    "완전 탐색 문제에서 방향 벡터가 자주 사용된다."
   ]
  },
  {
   "cell_type": "code",
   "execution_count": 3,
   "metadata": {},
   "outputs": [
    {
     "name": "stdout",
     "output_type": "stream",
     "text": [
      "2 3\n",
      "1 2\n",
      "2 1\n",
      "3 2\n"
     ]
    }
   ],
   "source": [
    "## 방향 벡터\n",
    "\n",
    "dx=[0, -1, 0, 1]\n",
    "dy=[1, 0, -1, 0]\n",
    "x,y=2,2\n",
    "\n",
    "for i in range(0, 4):\n",
    "    nx=x+dx[i]\n",
    "    ny=y+dy[i]\n",
    "    print(nx, ny) # 동, 북, 서, 남"
   ]
  },
  {
   "cell_type": "markdown",
   "metadata": {},
   "source": [
    "## 문제2\n",
    "\n",
    "```\n",
    "  여행가 A는 N × N 크기의 정사각형 공간 위에 서 있습니다. 이 공간은 1 × 1 크기의 정사각형으로 나누어져 있습니다. 가장 왼쪽 위 좌표는 (1, 1)이며, 가장 오른쪽 아래 좌표는 (N, N)에 해당합니다. 여행가 A는 상, 하, 좌, 우 방향으로 이동할 수 있으며, 시작 좌표는 항상 (1, 1)입니다. 우리 앞에는 여행가 A가 이동할 계획이 적힌 계획서가 놓여 있습니다.\n",
    "\n",
    "  계획서에는 하나의 줄에 띄어쓰기를 기준으로 하여 L, R, U, D 중 하나의 문자가 반복적으로 적혀 있습니다. 각 문자의 의미는 다음과 같습니다.\n",
    "\n",
    "L: 왼쪽으로 한 칸 이동\n",
    "R: 오른쪽으로 한 칸 이동\n",
    "U: 위로 한 칸 이동\n",
    "D: 아래로 한 칸 이동\n",
    "```\n",
    "\n",
    "***결과***\n",
    "```\n",
    "(1, 2)\n",
    "(3, 4)\n",
    "```"
   ]
  },
  {
   "cell_type": "code",
   "execution_count": 4,
   "metadata": {
    "ExecuteTime": {
     "end_time": "2022-03-28T05:09:37.087245Z",
     "start_time": "2022-03-28T05:09:37.066774Z"
    }
   },
   "outputs": [
    {
     "name": "stdout",
     "output_type": "stream",
     "text": [
      "(1, 2)\n",
      "(3, 4)\n"
     ]
    }
   ],
   "source": [
    "## 교수님 코드\n",
    "\n",
    "def move_plans(n, plans):\n",
    "    '''\n",
    "    # L, R, U, D\n",
    "    dx=[0, 0, -1, 1]\n",
    "    dy=[-1, 1, 0, 0]\n",
    "    x,y=(1,1)\n",
    "    '''\n",
    "    # 딕셔너리로 표현하기.\n",
    "    moves={\n",
    "        \"U\": (-1, 0),\n",
    "        \"D\": (1, 0),\n",
    "        \"L\": (0, -1),\n",
    "        \"R\": (0, 1)\n",
    "    }\n",
    "    x,y=(1,1)\n",
    "    \n",
    "    # 이동 계획을 하나씩 획인하기.\n",
    "    # replace 함수 잊지않기.\n",
    "    for plan in plans.replace(\" \", \"\"):\n",
    "        if plan in moves:\n",
    "            dx, dy=moves[plan]\n",
    "            nx=x+dx\n",
    "            ny=y+dy\n",
    "        if nx<1 or ny<1 or nx>n or ny>n:\n",
    "            continue\n",
    "        x, y=nx, ny\n",
    "    return x,y\n",
    "    pass\n",
    "\n",
    "print(move_plans(5, 'D D L R U U U'))\n",
    "print(move_plans(5, 'R R R U D D'))\n"
   ]
  },
  {
   "cell_type": "code",
   "execution_count": 5,
   "metadata": {},
   "outputs": [
    {
     "name": "stdout",
     "output_type": "stream",
     "text": [
      "(1, 2)\n",
      "(3, 4)\n"
     ]
    }
   ],
   "source": [
    "## 처음에 내가 생각한 구조\n",
    "## 반복되는 부분이 많으므로 위와 같이 딕셔너리를 사용하는 것이 더 적합하다.\n",
    "## (주의) 옮겼을 때 <1 이거나 >n인 경우 변경하지 않기!!!\n",
    " \n",
    "def move_plans(n, plans):\n",
    "    # L, R, U, D\n",
    "    dx=[0, 0, -1, 1]\n",
    "    dy=[-1, 1, 0, 0]\n",
    "    x,y=(1,1)\n",
    "    \n",
    "    # 이동 계획을 하나씩 획인하기.\n",
    "    for plan in plans.replace(\" \", \"\"):\n",
    "        if plan==\"L\":\n",
    "            nx=x+dx[0]\n",
    "            ny=y+dy[0]\n",
    "            if nx<1 or ny<1 or nx>n or ny>n:\n",
    "                continue\n",
    "            x, y=nx, ny\n",
    "        elif plan==\"R\":\n",
    "            nx=x+dx[1]\n",
    "            ny=y+dy[1]\n",
    "            if nx<1 or ny<1 or nx>n or ny>n:\n",
    "                continue\n",
    "            x, y=nx, ny\n",
    "        elif plan==\"U\":\n",
    "            nx=x+dx[2]\n",
    "            ny=y+dy[2]\n",
    "            if nx<1 or ny<1 or nx>n or ny>n:\n",
    "                continue\n",
    "            x, y=nx, ny\n",
    "        else:\n",
    "            nx=x+dx[3]\n",
    "            ny=y+dy[3]\n",
    "            if nx<1 or ny<1 or nx>n or ny>n:\n",
    "                continue\n",
    "            x, y=nx, ny\n",
    "    return x,y\n",
    "    pass\n",
    "\n",
    "print(move_plans(5, 'D D L R U U U'))\n",
    "print(move_plans(5, 'R R R U D D'))\n"
   ]
  },
  {
   "cell_type": "markdown",
   "metadata": {},
   "source": [
    "## 예제1"
   ]
  },
  {
   "cell_type": "markdown",
   "metadata": {},
   "source": [
    "시각 문제"
   ]
  },
  {
   "cell_type": "code",
   "execution_count": 6,
   "metadata": {},
   "outputs": [],
   "source": [
    "## 전체 경우 - 3을 포함하는 시각의 개수\n",
    "## 전체 경우 : n * 60 * 60\n",
    "## 3을 포함한 시각의 개수 : 5 * (60 - 15) * (60 - 15)\n",
    "## 15 : 3, 13, 23, 43, 53, 30 ~ 39\n",
    "\n",
    "def solution(n):\n",
    "    count=(n+1)*60*60\n",
    "    not_three=45*45*(n)\n",
    "    # print(count, not_three) 21600 10125\n",
    "    return count-not_three"
   ]
  },
  {
   "cell_type": "code",
   "execution_count": 7,
   "metadata": {},
   "outputs": [
    {
     "name": "stdout",
     "output_type": "stream",
     "text": [
      "11475\n"
     ]
    }
   ],
   "source": [
    "print(solution(5))"
   ]
  },
  {
   "cell_type": "markdown",
   "metadata": {},
   "source": [
    "## 예제2"
   ]
  },
  {
   "cell_type": "markdown",
   "metadata": {},
   "source": [
    "왕실의 나이트"
   ]
  },
  {
   "cell_type": "code",
   "execution_count": 20,
   "metadata": {},
   "outputs": [],
   "source": [
    "# c2 : 6가지\n",
    "# a1 : 2가지\n",
    "\n",
    "def solution(c): # 좌표\n",
    "    dx=[2, 2, -2, -2, 1, 1, -1, -1]\n",
    "    dy=[1, -1, 1, -1, 2, -2, 2, -2]\n",
    "    x=ord(c[0])-96 # ord : 문자에서 아스키 코드로 변환하기\n",
    "    y=int(c[1])\n",
    "    count=0\n",
    "    \n",
    "    for idx in range(0, len(dx)):\n",
    "        nx=x+dx[idx]\n",
    "        ny=y+dy[idx]\n",
    "        # 좌표가 8 X 8 좌표 평면 상에 있는 경우에만 카운트 진행한다.\n",
    "        # 위의 문제와 동일하다.\n",
    "        if nx>=1 and ny>=1 and nx<=8 and ny<=8:\n",
    "            count+=1\n",
    "    return count"
   ]
  },
  {
   "cell_type": "code",
   "execution_count": 21,
   "metadata": {},
   "outputs": [
    {
     "name": "stdout",
     "output_type": "stream",
     "text": [
      "6\n",
      "2\n"
     ]
    }
   ],
   "source": [
    "print(solution(\"c2\")) # 6\n",
    "print(solution(\"a1\")) # 2"
   ]
  },
  {
   "cell_type": "markdown",
   "metadata": {},
   "source": [
    "## 문제3\n",
    "\n",
    "프로그래머스 문제\n",
    "https://programmers.co.kr/learn/courses/30/lessons/68644\n",
    "\n",
    "위 문제를 풀고 코드를 붙여 넣으세요.\n",
    "\n",
    "***결과***\n",
    "```\n",
    "[2, 3, 4, 5, 6, 7]\n",
    "[2, 5, 7, 9, 12]\n",
    "```\n",
    "\n"
   ]
  },
  {
   "cell_type": "code",
   "execution_count": 10,
   "metadata": {
    "ExecuteTime": {
     "end_time": "2022-03-28T05:16:03.718518Z",
     "start_time": "2022-03-28T05:16:03.713973Z"
    },
    "scrolled": true
   },
   "outputs": [
    {
     "name": "stdout",
     "output_type": "stream",
     "text": [
      "[2, 3, 4, 5, 6, 7]\n",
      "[2, 5, 7, 9, 12]\n"
     ]
    }
   ],
   "source": [
    "def solution(numbers):\n",
    "    answer=[]\n",
    "    for i in range(0, len(numbers)):\n",
    "        for j in range(i+1, len(numbers)):\n",
    "            answer.append(numbers[i]+numbers[j])\n",
    "    return sorted(list(set(answer)))\n",
    "    pass\n",
    "\n",
    "print(solution([2,1,3,4,1]))\n",
    "print(solution([5,0,2,7]))"
   ]
  },
  {
   "cell_type": "markdown",
   "metadata": {},
   "source": [
    "# 문제4\n",
    "\n",
    "문자열 재정렬\n",
    "\n",
    "알파벳 대문자와 숫자(0 ~ 9)로만 구성된 문자열이 입력으로 주어집니다. 이때 모든 알파벳을 오름차순으로 정렬하여 이어서 출력한 뒤에, 그 뒤에 모든 숫자를 더한 값을 이어서 출력합니다.\n",
    "예를 들어 K1KA5CB7이라는 값이 들어오면 ABCKK13을 출력합니다.\n",
    "\n",
    "***결과***\n",
    "```\n",
    "ABCKK6\n",
    "```\n"
   ]
  },
  {
   "cell_type": "code",
   "execution_count": 11,
   "metadata": {},
   "outputs": [
    {
     "name": "stdout",
     "output_type": "stream",
     "text": [
      "ABCKK6\n"
     ]
    }
   ],
   "source": [
    "from io import StringIO\n",
    "\n",
    "## 입력 문자열\n",
    "input_str = \\\n",
    "\"\"\"\n",
    "K1KA5CB\n",
    "\"\"\"\n",
    "\n",
    "## 문자열을 스트림으로 바꾸는 방법\n",
    "stream = StringIO(input_str.strip())\n",
    "input = stream.readline\n",
    "\n",
    "## 아래에 코드를 작성하시오.\n",
    "\n",
    "string=list(input().split()[0]) # 가져오는 방식 연습하기.\n",
    "string.sort()\n",
    "answer=[]\n",
    "digit=0\n",
    "\n",
    "## str을 변수로 이용하면 충돌생긴다. 그러니까 이용하지 않기.\n",
    "\n",
    "for s in string:\n",
    "    if s.isdigit()==False:\n",
    "        answer.append(s)\n",
    "    else:\n",
    "        digit+=int(s)\n",
    "answer+=[str(digit)]\n",
    "print(\"\".join(answer))"
   ]
  }
 ],
 "metadata": {
  "kernelspec": {
   "display_name": "Python 3 (ipykernel)",
   "language": "python",
   "name": "python3"
  },
  "language_info": {
   "codemirror_mode": {
    "name": "ipython",
    "version": 3
   },
   "file_extension": ".py",
   "mimetype": "text/x-python",
   "name": "python",
   "nbconvert_exporter": "python",
   "pygments_lexer": "ipython3",
   "version": "3.9.13"
  }
 },
 "nbformat": 4,
 "nbformat_minor": 2
}
