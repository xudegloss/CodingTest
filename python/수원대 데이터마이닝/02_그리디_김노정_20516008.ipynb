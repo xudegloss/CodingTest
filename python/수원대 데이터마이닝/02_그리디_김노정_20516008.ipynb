{
 "cells": [
  {
   "cell_type": "code",
   "execution_count": 1,
   "metadata": {
    "ExecuteTime": {
     "end_time": "2019-09-10T04:00:05.497613Z",
     "start_time": "2019-09-10T04:00:05.491632Z"
    }
   },
   "outputs": [
    {
     "data": {
      "text/html": [
       "<style>.container { width:100% !important; }</style>"
      ],
      "text/plain": [
       "<IPython.core.display.HTML object>"
      ]
     },
     "metadata": {},
     "output_type": "display_data"
    },
    {
     "data": {
      "text/html": [
       "<style>\n",
       "div.CodeMirror, div.CodeMirror pre, div.CodeMirror-code,\n",
       "div.output_area pre, div.output_wrapper pre,\n",
       ".text_cell_render, .text_cell_render *\n",
       "{ font-family: Consolas; font-size: 15pt; line-height: 140%;}\n",
       "</style>"
      ],
      "text/plain": [
       "<IPython.core.display.HTML object>"
      ]
     },
     "metadata": {},
     "output_type": "display_data"
    }
   ],
   "source": [
    "from IPython.display import display, HTML, Markdown\n",
    "display(HTML(\"<style>.container { width:100% !important; }</style>\"))\n",
    "display(HTML(\"\"\"<style>\n",
    "div.CodeMirror, div.CodeMirror pre, div.CodeMirror-code,\n",
    "div.output_area pre, div.output_wrapper pre,\n",
    ".text_cell_render, .text_cell_render *\n",
    "{ font-family: Consolas; font-size: 15pt; line-height: 140%;}\n",
    "</style>\"\"\"))"
   ]
  },
  {
   "cell_type": "markdown",
   "metadata": {},
   "source": [
    "# 예제 문제"
   ]
  },
  {
   "cell_type": "markdown",
   "metadata": {},
   "source": [
    "## 문제1 "
   ]
  },
  {
   "cell_type": "markdown",
   "metadata": {},
   "source": [
    "거스름 돈"
   ]
  },
  {
   "cell_type": "code",
   "execution_count": 11,
   "metadata": {},
   "outputs": [
    {
     "name": "stdout",
     "output_type": "stream",
     "text": [
      "6\n"
     ]
    }
   ],
   "source": [
    "def solution(n):\n",
    "    min_answer=0\n",
    "    money_unit=[500, 100, 50, 10]\n",
    "    \n",
    "    for idx in range(0, len(money_unit)):\n",
    "        min_answer+=n//money_unit[idx] # 1. 거스름 돈 개수 추가하기.\n",
    "        n=n%money_unit[idx] # 2. n 업데이트하기.\n",
    "    return min_answer\n",
    "    pass\n",
    "\n",
    "print(solution(1260))"
   ]
  },
  {
   "cell_type": "markdown",
   "metadata": {},
   "source": [
    "# 파일 이름에서 '학번'을 자신의 학번으로, '이름'을 자신의 이름으로 고치시오."
   ]
  },
  {
   "cell_type": "markdown",
   "metadata": {},
   "source": [
    "## 문제1\n",
    "\n",
    "1이 될 때 까지\n",
    "\n",
    "어떠한 수 N이 1이 될 때까지 다음의 두 과정 중 하나를 반복적으로 선택하여 수행하려고 합니다. 단, 두 번째 연산은 N이 K로 나누어 떨어질 때만 선택할 수 있습니다.\n",
    "- N에서 1을 뺍니다.\n",
    "- N을 K로 나눕니다. \n",
    "\n",
    "N과 K가 주어질 때 N이 1이 될 때까지 1번 혹은 2번의 과정을 수행해야 하는 최소 횟수를 구하는 프로그램을 작성하세요.\n",
    "\n",
    "***결과***\n",
    "```\n",
    "6\n",
    "```\n",
    "\n"
   ]
  },
  {
   "cell_type": "code",
   "execution_count": 26,
   "metadata": {},
   "outputs": [
    {
     "name": "stdout",
     "output_type": "stream",
     "text": [
      "6\n",
      "3\n",
      "6\n"
     ]
    }
   ],
   "source": [
    "from io import StringIO\n",
    "\n",
    "## 입력 문자열\n",
    "input_str = \\\n",
    "\"\"\"\n",
    "25 2\n",
    "\"\"\"\n",
    "\n",
    "## 문자열을 스트림으로 바꾸는 방법\n",
    "stream = StringIO(input_str.strip())\n",
    "input = stream.readline#import sys\n",
    "\n",
    "## 아래에 코드 작성\n",
    "n,k = map(int, input().split())\n",
    "\n",
    "def solution(n, k):\n",
    "    answer=0\n",
    "    \n",
    "    while True:\n",
    "        if n==1:\n",
    "            break\n",
    "        else:\n",
    "            if n%k!=0:\n",
    "                n-=1\n",
    "                answer+=1\n",
    "            else:\n",
    "                n=n/k\n",
    "                answer+=1\n",
    "    return answer\n",
    "    pass\n",
    "\n",
    "print(solution(n, k))\n",
    "print(solution(17, 4))\n",
    "print(solution(25, 3))"
   ]
  },
  {
   "cell_type": "markdown",
   "metadata": {},
   "source": [
    "## 문제2\n",
    "\n",
    "곱하기 혹은 더하기\n",
    "\n",
    "각 자리가 숫자(0부터 9)로만 이루어진 문자열 S가 주어졌을 때, 왼쪽부터 오른쪽으로 하나씩 모든 숫자를 확인하며 숫자 사이에 ‘×’ 혹은 ‘+’ 연산자를 넣어 결과적으로 만들어질 수 있는 가장 큰 수를 구하는 프로그램을 작성하세요. \n",
    "단, +보다 ×를 먼저 계산하는 일반적인 방식과는 달리, 모든 연산은 왼쪽에서부터 순서대로 이루어진다고 가정합니다.\n",
    "\n",
    "예를 들어 02984라는 문자열로 만들 수 있는 가장 큰 수는 ((((0 + 2) × 9) × 8) × 4) = 576입니다. \n",
    "또한 만들어질 수 있는 가장 큰 수는 항상 20억 이하의 정수가 되도록 입력이 주어집니다.\n",
    "\n",
    "***결과***\n",
    "```\n",
    "576\n",
    "```\n"
   ]
  },
  {
   "cell_type": "code",
   "execution_count": 34,
   "metadata": {},
   "outputs": [
    {
     "name": "stdout",
     "output_type": "stream",
     "text": [
      "576\n",
      "210\n"
     ]
    }
   ],
   "source": [
    "from io import StringIO\n",
    "\n",
    "## 입력 문자열\n",
    "input_str = \\\n",
    "\"\"\"\n",
    "02984\n",
    "\"\"\"\n",
    "\n",
    "## 문자열을 스트림으로 바꾸는 방법\n",
    "stream = StringIO(input_str.strip())\n",
    "input = stream.readline#import sys\n",
    "\n",
    "## 아래에 코드 작성\n",
    "\n",
    "s=input().split()[0] # 02984\n",
    "\n",
    "def solution(s):\n",
    "    answer=int(s[0])\n",
    "    \n",
    "    for idx in range(1, len(s)):\n",
    "        # print(idx, idx+1)\n",
    "        if (answer==0) or (answer==1):\n",
    "            answer+=int(s[idx])\n",
    "        else:\n",
    "            answer*=int(s[idx])\n",
    "    return answer\n",
    "    pass\n",
    "\n",
    "print(solution(s)) # 576\n",
    "print(solution(\"567\")) # 210"
   ]
  },
  {
   "cell_type": "markdown",
   "metadata": {},
   "source": [
    "## 문제3\n",
    "\n",
    "모험가 길드\n",
    "\n",
    "- 한 마을에 모험가가 N명 있습니다. 모험가 길드에서는 N명의 모험가를 대상으로 ‘공포도’를 측정했는데, ‘공포도’가 높은 모험가는 쉽게 공포를 느껴 위험 상황에서 제대로 대처할 능력이 떨어집니다.\n",
    "- 모험가 길드장인 동빈이는 모험가 그룹을 안전하게 구성하고자 공포도가 X인 모험가는 반드시 X명 이상으로 구성한 모험가 그룹에 참여해야 여행을 떠날 수 있도록 규정했습니다.\n",
    "- 동빈이는 최대 몇 개의 모험가 그룹을 만들 수 있는지 궁금합니다. N명의 모험가에 대한 정보가 주어졌을 때, 여행을 떠날 수 있는 그룹 수의 최댓값을 구하는 프로그램을 작성하세요.\n",
    "\n",
    "***결과***\n",
    "```\n",
    "2\n",
    "```\n",
    "\n"
   ]
  },
  {
   "cell_type": "code",
   "execution_count": 52,
   "metadata": {},
   "outputs": [
    {
     "name": "stdout",
     "output_type": "stream",
     "text": [
      "2\n"
     ]
    }
   ],
   "source": [
    "from io import StringIO\n",
    "\n",
    "## 입력 문자열\n",
    "input_str = \\\n",
    "\"\"\"\n",
    "5\n",
    "2 3 1 2 2\n",
    "\"\"\"\n",
    "\n",
    "## 문자열을 스트림으로 바꾸는 방법\n",
    "stream = StringIO(input_str.strip())\n",
    "input = stream.readline#import sys\n",
    "\n",
    "## 아래에 코드 작성\n",
    "\n",
    "# n, arr 가져오는거 잘 기억하기!!\n",
    "n=int(input()) # 사람의 수\n",
    "arr=list(map(int, input().split())) # 각각의 공포도 리스트\n",
    "arr.sort(reverse=True) # [3, 2, 2, 2, 1]\n",
    "\n",
    "answer=0\n",
    "\n",
    "while len(arr)>0:\n",
    "    idx=0 # arr의 첫 번째 요소를 기준으로 얼마나 arr를 잘라낼 것인지 판단하기.\n",
    "    arr=arr[arr[idx]:]\n",
    "    answer+=1\n",
    "    \n",
    "print(answer)"
   ]
  },
  {
   "cell_type": "markdown",
   "metadata": {},
   "source": [
    "## 문제4\n",
    "\n",
    "파라미터 prices는 주식 가격을 시간순으로 가지고 있는 리스트이다.\n",
    "주식 매매를 통해서 가질 수 있는 최대 이득을 리턴하는 함수를 구현하시오.\n",
    "\n",
    "***결과***\n",
    "```\n",
    "7\n",
    "```\n"
   ]
  },
  {
   "cell_type": "code",
   "execution_count": 63,
   "metadata": {
    "ExecuteTime": {
     "end_time": "2022-03-21T07:11:18.235741Z",
     "start_time": "2022-03-21T07:11:18.225767Z"
    },
    "scrolled": false
   },
   "outputs": [
    {
     "name": "stdout",
     "output_type": "stream",
     "text": [
      "7\n"
     ]
    }
   ],
   "source": [
    "def maxProfit(prices):\n",
    "    answer=prices[0] # prices의 첫 번째 요소를 기준점으로 두기.\n",
    "    \n",
    "    for idx in range(1, len(prices)):\n",
    "        if answer>=prices[idx]:\n",
    "            continue\n",
    "        else:\n",
    "            answer=prices[idx]\n",
    "    return answer\n",
    "    pass\n",
    "\n",
    "# 아래는 수정하지 마시오.\n",
    "prices01 = [7,1,5,3,6,4]\n",
    "print(maxProfit(prices01))"
   ]
  },
  {
   "cell_type": "markdown",
   "metadata": {},
   "source": [
    "## 문제5\n",
    "\n",
    "1. 아이들 마다 쿠키를 1개씩 나누어 주려고 한다.\n",
    "1. 아이들은 각자 만족하는 쿠키의 최소 크기가 정해져 있다.\n",
    "1. 최대한 많은 아이들을 만족시키고 싶다.\n",
    "\n",
    "파라미티:\n",
    "- g: 아이들이 만족하는 최소 쿠키 크기를 담은 리스트\n",
    "- s: 쿠키들의 크기를 담은 리스트\n",
    "- return : 최대로 만족한 아이들의 수\n",
    "\n",
    "***결과***\n",
    "```\n",
    "1\n",
    "2\n",
    "2\n",
    "```\n"
   ]
  },
  {
   "cell_type": "code",
   "execution_count": 69,
   "metadata": {
    "ExecuteTime": {
     "end_time": "2022-03-21T07:26:08.373750Z",
     "start_time": "2022-03-21T07:26:08.363777Z"
    },
    "scrolled": true
   },
   "outputs": [
    {
     "name": "stdout",
     "output_type": "stream",
     "text": [
      "1\n",
      "2\n",
      "2\n"
     ]
    }
   ],
   "source": [
    "def findContentChildren(g, s):\n",
    "    # 1. 먼저 정렬하기.\n",
    "    g.sort()\n",
    "    s.sort()\n",
    "    \n",
    "    # 2. 사람 인덱스와 쿠키 인덱스 설정하기.\n",
    "    i=0 # 사람 번호\n",
    "    j=0 # 쿠키 번호\n",
    "    answer=0\n",
    "    \n",
    "    # 3. 번호를 돌리면서 조건에 맞는 답을 찾아내기.\n",
    "    while (i<len(g)) and (j<len(s)):\n",
    "        if g[i]<=s[j]: # 사람이 원하는 쿠키보다 쿠키가 많은 경우 -> 조건에 만족한다.\n",
    "            answer+=1\n",
    "            i+=1\n",
    "            j+=1 \n",
    "        else: # 조건에 만족하지 않는다.\n",
    "            j+=1 # 쿠키 번호를 계속 돌린다.\n",
    "    return answer\n",
    "    pass\n",
    "\n",
    "\n",
    "# 아래는 수정하지 마시오.\n",
    "print(findContentChildren([1,2,3], [1,1]))\n",
    "print(findContentChildren([1,2], [1,2,3]))\n",
    "print(findContentChildren([2,3,4], [1,5,3,1]))"
   ]
  },
  {
   "cell_type": "code",
   "execution_count": 64,
   "metadata": {},
   "outputs": [
    {
     "name": "stdout",
     "output_type": "stream",
     "text": [
      "1\n",
      "2\n",
      "2\n"
     ]
    }
   ],
   "source": [
    "## 교수님 코드\n",
    "\n",
    "def findContentChildren(g, s):\n",
    "    g.sort()\n",
    "    s.sort()\n",
    "    i=0 # 사람 번호\n",
    "    j=0 # 쿠키 번호\n",
    "    result=0\n",
    "    \n",
    "    while (i<len(g)) and (j<len(s)):\n",
    "            if g[i]<=s[j]: # 아이를 만족시키는 경우\n",
    "                result+=1\n",
    "                i+=1\n",
    "                j+=1\n",
    "            else: # 아이를 만족시키지 못 하는 경우\n",
    "                j+=1\n",
    "    return result\n",
    "    pass\n",
    "\n",
    "# 아래는 수정하지 마시오.\n",
    "print(findContentChildren([1,2,3], [1,1]))\n",
    "print(findContentChildren([1,2], [1,2,3]))\n",
    "print(findContentChildren([2,3,4], [1,5,3,1]))"
   ]
  }
 ],
 "metadata": {
  "kernelspec": {
   "display_name": "Python 3 (ipykernel)",
   "language": "python",
   "name": "python3"
  },
  "language_info": {
   "codemirror_mode": {
    "name": "ipython",
    "version": 3
   },
   "file_extension": ".py",
   "mimetype": "text/x-python",
   "name": "python",
   "nbconvert_exporter": "python",
   "pygments_lexer": "ipython3",
   "version": "3.9.13"
  }
 },
 "nbformat": 4,
 "nbformat_minor": 2
}
